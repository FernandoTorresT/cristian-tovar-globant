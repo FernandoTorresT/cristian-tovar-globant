{
 "cells": [
  {
   "cell_type": "code",
   "execution_count": null,
   "id": "056f62d8-f984-4ace-9b12-93e723874529",
   "metadata": {},
   "outputs": [],
   "source": [
    "from pyspark.sql import SparkSession\n",
    "\n",
    "# Crea una sesión de Spark\n",
    "spark = SparkSession.builder.appName(\"LecturaCSV\").getOrCreate()\n",
    "\n",
    "# Lee el archivo CSV y carga los datos en un DataFrame\n",
    "df = spark.read.csv(\"jobs.csv\", header=True, inferSchema=True)\n",
    "\n",
    "# Muestra los registros del DataFrame\n",
    "df.show()\n",
    "\n"
   ]
  },
  {
   "cell_type": "code",
   "execution_count": null,
   "id": "90181b21-3ddd-41a3-bc2b-990274cdc675",
   "metadata": {},
   "outputs": [],
   "source": []
  }
 ],
 "metadata": {
  "kernelspec": {
   "display_name": "Python 3 (ipykernel)",
   "language": "python",
   "name": "python3"
  },
  "language_info": {
   "codemirror_mode": {
    "name": "ipython",
    "version": 3
   },
   "file_extension": ".py",
   "mimetype": "text/x-python",
   "name": "python",
   "nbconvert_exporter": "python",
   "pygments_lexer": "ipython3",
   "version": "3.11.5"
  }
 },
 "nbformat": 4,
 "nbformat_minor": 5
}
